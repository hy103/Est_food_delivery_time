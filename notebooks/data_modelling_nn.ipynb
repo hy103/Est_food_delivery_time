{
 "cells": [
  {
   "cell_type": "code",
   "execution_count": 1,
   "metadata": {},
   "outputs": [],
   "source": [
    "import pandas as pd \n",
    "import numpy as np\n",
    "import matplotlib.pyplot as plt\n",
    "import seaborn as sns\n",
    "\n",
    "# Settings\n",
    "pd.set_option('display.max_columns', None)\n",
    "sns.set_style('whitegrid')\n",
    "%matplotlib inline\n",
    "\n",
    "### Packages\n",
    "from sklearn.model_selection import train_test_split\n",
    "from sklearn.preprocessing import OneHotEncoder, StandardScaler\n",
    "from sklearn.linear_model import LinearRegression\n",
    "from sklearn.ensemble import RandomForestRegressor\n",
    "from xgboost import XGBRegressor\n",
    "from lightgbm import LGBMRegressor\n",
    "from sklearn.metrics import mean_squared_error, r2_score,mean_absolute_error\n",
    "import warnings\n",
    "import torch\n",
    "import torch.nn as nn\n",
    "import torch.nn.functional as F\n",
    "from torch.utils.data import DataLoader, Dataset\n",
    "data = pd.read_csv('../data/modeling-data (1).csv')\n",
    "data = data.drop('Festival', axis = 1)\n",
    "data['City'] = data['City'].apply(lambda value: 'Urban' if value == 'Semi-Urban' else value)\n",
    "\n",
    "import scipy.stats as stats\n",
    "ContinuousFeatures = data.drop(['Vehicle_condition', 'multiple_deliveries',\n",
    "                               'OrderTime', 'Delivery_person_Age', 'Time_taken(min)'], axis = 1).select_dtypes(exclude = 'O').columns\n",
    "\n",
    "data.drop('Time_taken(min)', axis = 1).columns\n",
    "data = pd.get_dummies(data, drop_first = True)\n"
   ]
  },
  {
   "cell_type": "code",
   "execution_count": 2,
   "metadata": {},
   "outputs": [],
   "source": [
    "# Reseting Index\n",
    "\n",
    "data.reset_index(drop = True, inplace = True)\n",
    "X = data.drop('Time_taken(min)', axis = 1)\n",
    "y = data['Time_taken(min)']\n",
    "from sklearn.metrics import mean_absolute_error, mean_squared_error\n",
    "def GetMetrics(y, predictions):\n",
    "    return {'MSE' : mean_squared_error(y, predictions),\n",
    "            'RMSE' : np.sqrt(mean_squared_error(y, predictions)),\n",
    "            'MAE': mean_absolute_error(y, predictions)}\n",
    "\n",
    "\n",
    "from sklearn.model_selection import train_test_split\n",
    "\n",
    "X_train, X_test, y_train, y_test = train_test_split(X, y, test_size = 0.10, random_state = 42)\n",
    "\n",
    "from sklearn.preprocessing import MinMaxScaler\n",
    "\n",
    "scaler = MinMaxScaler()\n",
    "\n",
    "X_train_pre = scaler.fit_transform(X_train)\n",
    "X_test_pre = scaler.transform(X_test)\n",
    "y_test, y_train = y_test.to_numpy(), y_train.to_numpy()"
   ]
  },
  {
   "cell_type": "code",
   "execution_count": 3,
   "metadata": {},
   "outputs": [],
   "source": [
    "# Define Neural Network with adjustments\n",
    "class Regression_nn_model(nn.Module):\n",
    "    def __init__(self, num_feature):\n",
    "        super().__init__()\n",
    "\n",
    "        self.layer1 = nn.Linear(num_feature, 27)  # Increased number of neurons\n",
    "        self.dropout1 = nn.Dropout(p=0.3)  # Adjusted dropout rate\n",
    "        self.layer2 = nn.ReLU()\n",
    "        self.layer3 = nn.Linear(27, 16)  # Adjusted number of neurons\n",
    "        self.dropout2 = nn.Dropout(p=0.3)  # Adjusted dropout rate\n",
    "        self.layer4 = nn.ReLU()\n",
    "        self.layer5 = nn.Linear(16, 8)  # Adjusted number of neurons\n",
    "        self.layer6 = nn.ReLU()\n",
    "        self.layer7 = nn.Linear(8, 1)\n",
    "\n",
    "    def forward(self, x):\n",
    "        output = self.layer1(x)\n",
    "        output = self.dropout1(output)\n",
    "        output = self.layer2(output)\n",
    "        output = self.layer3(output)\n",
    "        output = self.dropout2(output)\n",
    "        output = self.layer4(output)\n",
    "        output = self.layer5(output)\n",
    "        output = self.layer6(output)\n",
    "        output = self.layer7(output)\n",
    "        return output\n",
    "\n",
    "\n"
   ]
  },
  {
   "cell_type": "code",
   "execution_count": 4,
   "metadata": {},
   "outputs": [
    {
     "ename": "",
     "evalue": "",
     "output_type": "error",
     "traceback": [
      "\u001b[1;31mCannot execute code, session has been disposed. Please try restarting the Kernel."
     ]
    },
    {
     "ename": "",
     "evalue": "",
     "output_type": "error",
     "traceback": [
      "\u001b[1;31mThe Kernel crashed while executing code in the the current cell or a previous cell. Please review the code in the cell(s) to identify a possible cause of the failure. Click <a href='https://aka.ms/vscodeJupyterKernelCrash'>here</a> for more info. View Jupyter <a href='command:jupyter.viewOutput'>log</a> for further details."
     ]
    }
   ],
   "source": [
    "import torch\n",
    "from torch.utils.data import Dataset\n",
    "\n",
    "class myDataset(Dataset):\n",
    "    def __init__(self, X, y):\n",
    "        self.features = torch.tensor(X, dtype=torch.float32)\n",
    "        self.targets = torch.tensor(y, dtype=torch.float32)\n",
    "        print(f\"Features shape: {self.features.shape}\")\n",
    "        print(f\"Targets shape: {self.targets.shape}\")\n",
    "        \n",
    "    def __len__(self):\n",
    "        return len(self.targets)\n",
    "    \n",
    "    def __getitem__(self, index):\n",
    "        return self.features[index], self.targets[index]\n",
    "\n",
    "# Assuming you have X_train_pre and y_train as your data\n",
    "train_ds = myDataset(X_train_pre, y_train)\n"
   ]
  },
  {
   "cell_type": "code",
   "execution_count": null,
   "metadata": {},
   "outputs": [],
   "source": [
    "\n",
    "type(X_test_pre), type(y_test)"
   ]
  },
  {
   "cell_type": "code",
   "execution_count": null,
   "metadata": {},
   "outputs": [],
   "source": [
    "X_train_pre.shape, y_train.shape"
   ]
  },
  {
   "cell_type": "code",
   "execution_count": null,
   "metadata": {},
   "outputs": [],
   "source": [
    "X_train_pre[4320]"
   ]
  },
  {
   "cell_type": "code",
   "execution_count": null,
   "metadata": {},
   "outputs": [],
   "source": []
  },
  {
   "cell_type": "code",
   "execution_count": null,
   "metadata": {},
   "outputs": [],
   "source": []
  },
  {
   "cell_type": "code",
   "execution_count": null,
   "metadata": {},
   "outputs": [],
   "source": [
    "# Initialize model, optimizer with weight decay\n",
    "batch_size = 32\n",
    "# Create DataLoader instances\n",
    "train_loader = DataLoader(train_ds, batch_size= batch_size, shuffle=True)\n",
    "test_loader = DataLoader(test_ds, batch_size=batch_size, shuffle=False)\n",
    "torch.manual_seed(1)\n",
    "model = Regression_nn_model(num_feature=27)\n",
    "optimizer = torch.optim.Adam(model.parameters(), lr=0.001, weight_decay=0.01)  # Adjusted learning rate and added weight decay\n",
    "\n",
    "num_epochs = 20\n",
    "\n",
    "loss_list = []\n",
    "train_acc_list = []\n",
    "epoch_loss_list = []\n",
    "\n",
    "# Training loop\n",
    "for epoch in range(num_epochs):\n",
    "    model.train()\n",
    "    running_loss = 0.0\n",
    "    for batch_idx, (features, targets) in enumerate(train_loader):\n",
    "        logits = model(features)\n",
    "        loss = F.mse_loss(logits, targets)\n",
    "\n",
    "        optimizer.zero_grad()\n",
    "        loss.backward()\n",
    "        optimizer.step()\n",
    "        running_loss += loss.item()\n",
    "        \n",
    "    avg_loss = running_loss / len(train_loader)\n",
    "    epoch_loss_list.append(avg_loss)\n",
    "    print(f\"Epoch: {epoch+1:03d}/{num_epochs:03d} | Average Train Loss: {avg_loss:.2f}\")\n",
    "\n"
   ]
  },
  {
   "cell_type": "code",
   "execution_count": null,
   "metadata": {},
   "outputs": [],
   "source": [
    "# Evaluate on Validation and Test Sets\n",
    "\n",
    "def evaluate_model(model, loader, num_epochs):\n",
    "    test_avg_loss = []\n",
    "    for epoch in range(num_epochs):\n",
    "        model.eval()\n",
    "        total_loss = 0.0\n",
    "        \n",
    "        with torch.no_grad():\n",
    "            for features, targets in loader:\n",
    "                logits = model(features)\n",
    "                loss = F.mse_loss(logits, targets, reduction='sum')\n",
    "                total_loss += loss.item()\n",
    "        avg_loss = total_loss / len(loader.dataset)\n",
    "        test_avg_loss.append(avg_loss)\n",
    "    return test_avg_loss\n",
    "\n",
    "\n",
    "test_avg_loss = evaluate_model(model, test_loader, num_epochs)\n",
    "plt.plot(range(1, num_epochs + 1), epoch_loss_list, label='Training Loss')\n",
    "plt.plot(range(1, num_epochs + 1), test_avg_loss, label='Test Loss', linestyle='--')\n",
    "plt.xlabel('Epoch')\n",
    "plt.ylabel('Loss')\n",
    "plt.title('Training and Validation Loss over Epochs')\n",
    "plt.legend()\n",
    "plt.show()"
   ]
  }
 ],
 "metadata": {
  "kernelspec": {
   "display_name": "eta",
   "language": "python",
   "name": "python3"
  },
  "language_info": {
   "codemirror_mode": {
    "name": "ipython",
    "version": 3
   },
   "file_extension": ".py",
   "mimetype": "text/x-python",
   "name": "python",
   "nbconvert_exporter": "python",
   "pygments_lexer": "ipython3",
   "version": "3.9.19"
  },
  "orig_nbformat": 4
 },
 "nbformat": 4,
 "nbformat_minor": 2
}
