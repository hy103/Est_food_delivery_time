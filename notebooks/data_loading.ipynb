{
 "cells": [
  {
   "cell_type": "code",
   "execution_count": 1,
   "metadata": {},
   "outputs": [],
   "source": [
    "import pandas as pd \n",
    "import numpy as np\n",
    "import matplotlib.pyplot as plt \n",
    "import seaborn as sns \n",
    "import re"
   ]
  },
  {
   "cell_type": "code",
   "execution_count": 2,
   "metadata": {},
   "outputs": [
    {
     "name": "stderr",
     "output_type": "stream",
     "text": [
      "/var/folders/m4/y98c53d15dg1mt8b2xxsb6s40000gn/T/ipykernel_5252/2573212652.py:2: DtypeWarning: Columns (2) have mixed types. Specify dtype option on import or set low_memory=False.\n",
      "  df = pd.read_csv(\"../data/uber-eats-deliveries.csv\")\n"
     ]
    },
    {
     "data": {
      "text/html": [
       "<div>\n",
       "<style scoped>\n",
       "    .dataframe tbody tr th:only-of-type {\n",
       "        vertical-align: middle;\n",
       "    }\n",
       "\n",
       "    .dataframe tbody tr th {\n",
       "        vertical-align: top;\n",
       "    }\n",
       "\n",
       "    .dataframe thead th {\n",
       "        text-align: right;\n",
       "    }\n",
       "</style>\n",
       "<table border=\"1\" class=\"dataframe\">\n",
       "  <thead>\n",
       "    <tr style=\"text-align: right;\">\n",
       "      <th></th>\n",
       "      <th>ID</th>\n",
       "      <th>Delivery_person_ID</th>\n",
       "      <th>Delivery_person_Age</th>\n",
       "      <th>Delivery_person_Ratings</th>\n",
       "      <th>Restaurant_latitude</th>\n",
       "      <th>Restaurant_longitude</th>\n",
       "      <th>Delivery_location_latitude</th>\n",
       "      <th>Delivery_location_longitude</th>\n",
       "      <th>Order_Date</th>\n",
       "      <th>Time_Orderd</th>\n",
       "      <th>Time_Order_picked</th>\n",
       "      <th>Weatherconditions</th>\n",
       "      <th>Road_traffic_density</th>\n",
       "      <th>Vehicle_condition</th>\n",
       "      <th>Type_of_order</th>\n",
       "      <th>Type_of_vehicle</th>\n",
       "      <th>multiple_deliveries</th>\n",
       "      <th>Festival</th>\n",
       "      <th>City</th>\n",
       "      <th>Time_taken(min)</th>\n",
       "    </tr>\n",
       "  </thead>\n",
       "  <tbody>\n",
       "    <tr>\n",
       "      <th>0</th>\n",
       "      <td>0x463</td>\n",
       "      <td>VADRES20DEL03</td>\n",
       "      <td>NaN</td>\n",
       "      <td>NaN</td>\n",
       "      <td>-22.311358</td>\n",
       "      <td>-73.164798</td>\n",
       "      <td>22.371358</td>\n",
       "      <td>73.224798</td>\n",
       "      <td>3/4/22</td>\n",
       "      <td>NaN</td>\n",
       "      <td>23:30:00</td>\n",
       "      <td>conditions NaN</td>\n",
       "      <td>NaN</td>\n",
       "      <td>3</td>\n",
       "      <td>Buffet</td>\n",
       "      <td>electric_scooter</td>\n",
       "      <td>1</td>\n",
       "      <td>No</td>\n",
       "      <td>Metropolitian</td>\n",
       "      <td>(min) 21</td>\n",
       "    </tr>\n",
       "    <tr>\n",
       "      <th>1</th>\n",
       "      <td>0x139b</td>\n",
       "      <td>VADRES20DEL03</td>\n",
       "      <td>NaN</td>\n",
       "      <td>NaN</td>\n",
       "      <td>22.311358</td>\n",
       "      <td>73.164798</td>\n",
       "      <td>22.341358</td>\n",
       "      <td>73.194798</td>\n",
       "      <td>3/3/22</td>\n",
       "      <td>NaN</td>\n",
       "      <td>18:05:00</td>\n",
       "      <td>conditions Sandstorms</td>\n",
       "      <td>Medium</td>\n",
       "      <td>2</td>\n",
       "      <td>Drinks</td>\n",
       "      <td>electric_scooter</td>\n",
       "      <td>1</td>\n",
       "      <td>No</td>\n",
       "      <td>Urban</td>\n",
       "      <td>(min) 24</td>\n",
       "    </tr>\n",
       "    <tr>\n",
       "      <th>2</th>\n",
       "      <td>0x72b</td>\n",
       "      <td>VADRES20DEL03</td>\n",
       "      <td>NaN</td>\n",
       "      <td>NaN</td>\n",
       "      <td>22.311358</td>\n",
       "      <td>73.164798</td>\n",
       "      <td>22.401358</td>\n",
       "      <td>73.254798</td>\n",
       "      <td>25-03-2022</td>\n",
       "      <td>NaN</td>\n",
       "      <td>21:00:00</td>\n",
       "      <td>conditions Fog</td>\n",
       "      <td>Jam</td>\n",
       "      <td>0</td>\n",
       "      <td>Meal</td>\n",
       "      <td>motorcycle</td>\n",
       "      <td>2</td>\n",
       "      <td>No</td>\n",
       "      <td>Metropolitian</td>\n",
       "      <td>(min) 43</td>\n",
       "    </tr>\n",
       "    <tr>\n",
       "      <th>3</th>\n",
       "      <td>0x138c</td>\n",
       "      <td>VADRES20DEL02</td>\n",
       "      <td>NaN</td>\n",
       "      <td>NaN</td>\n",
       "      <td>22.311358</td>\n",
       "      <td>73.164798</td>\n",
       "      <td>22.441358</td>\n",
       "      <td>73.294798</td>\n",
       "      <td>31-03-2022</td>\n",
       "      <td>NaN</td>\n",
       "      <td>19:55:00</td>\n",
       "      <td>conditions Stormy</td>\n",
       "      <td>Jam</td>\n",
       "      <td>2</td>\n",
       "      <td>Buffet</td>\n",
       "      <td>motorcycle</td>\n",
       "      <td>0</td>\n",
       "      <td>No</td>\n",
       "      <td>Urban</td>\n",
       "      <td>(min) 24</td>\n",
       "    </tr>\n",
       "    <tr>\n",
       "      <th>4</th>\n",
       "      <td>0x950</td>\n",
       "      <td>VADRES20DEL01</td>\n",
       "      <td>NaN</td>\n",
       "      <td>NaN</td>\n",
       "      <td>22.311358</td>\n",
       "      <td>73.164798</td>\n",
       "      <td>22.351358</td>\n",
       "      <td>73.204798</td>\n",
       "      <td>3/3/22</td>\n",
       "      <td>NaN</td>\n",
       "      <td>15:50:00</td>\n",
       "      <td>conditions Fog</td>\n",
       "      <td>Medium</td>\n",
       "      <td>1</td>\n",
       "      <td>Snack</td>\n",
       "      <td>motorcycle</td>\n",
       "      <td>1</td>\n",
       "      <td>No</td>\n",
       "      <td>NaN</td>\n",
       "      <td>(min) 19</td>\n",
       "    </tr>\n",
       "    <tr>\n",
       "      <th>5</th>\n",
       "      <td>0xd55</td>\n",
       "      <td>VADRES20DEL01</td>\n",
       "      <td>NaN</td>\n",
       "      <td>NaN</td>\n",
       "      <td>22.311358</td>\n",
       "      <td>73.164798</td>\n",
       "      <td>22.351358</td>\n",
       "      <td>73.204798</td>\n",
       "      <td>13-03-2022</td>\n",
       "      <td>NaN</td>\n",
       "      <td>13:45:00</td>\n",
       "      <td>conditions Fog</td>\n",
       "      <td>High</td>\n",
       "      <td>1</td>\n",
       "      <td>Snack</td>\n",
       "      <td>motorcycle</td>\n",
       "      <td>1</td>\n",
       "      <td>No</td>\n",
       "      <td>Metropolitian</td>\n",
       "      <td>(min) 20</td>\n",
       "    </tr>\n",
       "    <tr>\n",
       "      <th>6</th>\n",
       "      <td>0xaa3</td>\n",
       "      <td>VADRES20DEL01</td>\n",
       "      <td>NaN</td>\n",
       "      <td>NaN</td>\n",
       "      <td>22.311358</td>\n",
       "      <td>73.164798</td>\n",
       "      <td>22.351358</td>\n",
       "      <td>73.204798</td>\n",
       "      <td>11/3/22</td>\n",
       "      <td>NaN</td>\n",
       "      <td>13:40:00</td>\n",
       "      <td>conditions Sandstorms</td>\n",
       "      <td>High</td>\n",
       "      <td>0</td>\n",
       "      <td>Buffet</td>\n",
       "      <td>motorcycle</td>\n",
       "      <td>0</td>\n",
       "      <td>No</td>\n",
       "      <td>Metropolitian</td>\n",
       "      <td>(min) 38</td>\n",
       "    </tr>\n",
       "    <tr>\n",
       "      <th>7</th>\n",
       "      <td>0x4d2</td>\n",
       "      <td>VADRES19DEL03</td>\n",
       "      <td>NaN</td>\n",
       "      <td>NaN</td>\n",
       "      <td>-22.311844</td>\n",
       "      <td>-73.165081</td>\n",
       "      <td>22.401844</td>\n",
       "      <td>73.255081</td>\n",
       "      <td>6/3/22</td>\n",
       "      <td>NaN</td>\n",
       "      <td>18:55:00</td>\n",
       "      <td>conditions NaN</td>\n",
       "      <td>NaN</td>\n",
       "      <td>3</td>\n",
       "      <td>Buffet</td>\n",
       "      <td>bicycle</td>\n",
       "      <td>1</td>\n",
       "      <td>No</td>\n",
       "      <td>Metropolitian</td>\n",
       "      <td>(min) 26</td>\n",
       "    </tr>\n",
       "    <tr>\n",
       "      <th>8</th>\n",
       "      <td>0x32b7</td>\n",
       "      <td>VADRES19DEL03</td>\n",
       "      <td>NaN</td>\n",
       "      <td>NaN</td>\n",
       "      <td>22.311844</td>\n",
       "      <td>73.165081</td>\n",
       "      <td>22.341844</td>\n",
       "      <td>73.195081</td>\n",
       "      <td>1/4/22</td>\n",
       "      <td>NaN</td>\n",
       "      <td>20:20:00</td>\n",
       "      <td>conditions Sandstorms</td>\n",
       "      <td>Jam</td>\n",
       "      <td>1</td>\n",
       "      <td>Snack</td>\n",
       "      <td>motorcycle</td>\n",
       "      <td>1</td>\n",
       "      <td>No</td>\n",
       "      <td>Metropolitian</td>\n",
       "      <td>(min) 29</td>\n",
       "    </tr>\n",
       "    <tr>\n",
       "      <th>9</th>\n",
       "      <td>0x52d</td>\n",
       "      <td>VADRES19DEL03</td>\n",
       "      <td>NaN</td>\n",
       "      <td>NaN</td>\n",
       "      <td>22.311844</td>\n",
       "      <td>73.165081</td>\n",
       "      <td>22.371844</td>\n",
       "      <td>73.225081</td>\n",
       "      <td>1/3/22</td>\n",
       "      <td>NaN</td>\n",
       "      <td>22:45:00</td>\n",
       "      <td>conditions Cloudy</td>\n",
       "      <td>Low</td>\n",
       "      <td>2</td>\n",
       "      <td>Meal</td>\n",
       "      <td>scooter</td>\n",
       "      <td>0</td>\n",
       "      <td>No</td>\n",
       "      <td>Urban</td>\n",
       "      <td>(min) 18</td>\n",
       "    </tr>\n",
       "  </tbody>\n",
       "</table>\n",
       "</div>"
      ],
      "text/plain": [
       "        ID Delivery_person_ID Delivery_person_Age Delivery_person_Ratings  \\\n",
       "0   0x463      VADRES20DEL03                 NaN                     NaN    \n",
       "1  0x139b      VADRES20DEL03                 NaN                     NaN    \n",
       "2   0x72b      VADRES20DEL03                 NaN                     NaN    \n",
       "3  0x138c      VADRES20DEL02                 NaN                     NaN    \n",
       "4   0x950      VADRES20DEL01                 NaN                     NaN    \n",
       "5   0xd55      VADRES20DEL01                 NaN                     NaN    \n",
       "6   0xaa3      VADRES20DEL01                 NaN                     NaN    \n",
       "7   0x4d2      VADRES19DEL03                 NaN                     NaN    \n",
       "8  0x32b7      VADRES19DEL03                 NaN                     NaN    \n",
       "9   0x52d      VADRES19DEL03                 NaN                     NaN    \n",
       "\n",
       "   Restaurant_latitude  Restaurant_longitude  Delivery_location_latitude  \\\n",
       "0           -22.311358            -73.164798                   22.371358   \n",
       "1            22.311358             73.164798                   22.341358   \n",
       "2            22.311358             73.164798                   22.401358   \n",
       "3            22.311358             73.164798                   22.441358   \n",
       "4            22.311358             73.164798                   22.351358   \n",
       "5            22.311358             73.164798                   22.351358   \n",
       "6            22.311358             73.164798                   22.351358   \n",
       "7           -22.311844            -73.165081                   22.401844   \n",
       "8            22.311844             73.165081                   22.341844   \n",
       "9            22.311844             73.165081                   22.371844   \n",
       "\n",
       "   Delivery_location_longitude  Order_Date Time_Orderd Time_Order_picked  \\\n",
       "0                    73.224798      3/4/22        NaN           23:30:00   \n",
       "1                    73.194798      3/3/22        NaN           18:05:00   \n",
       "2                    73.254798  25-03-2022        NaN           21:00:00   \n",
       "3                    73.294798  31-03-2022        NaN           19:55:00   \n",
       "4                    73.204798      3/3/22        NaN           15:50:00   \n",
       "5                    73.204798  13-03-2022        NaN           13:45:00   \n",
       "6                    73.204798     11/3/22        NaN           13:40:00   \n",
       "7                    73.255081      6/3/22        NaN           18:55:00   \n",
       "8                    73.195081      1/4/22        NaN           20:20:00   \n",
       "9                    73.225081      1/3/22        NaN           22:45:00   \n",
       "\n",
       "       Weatherconditions Road_traffic_density  Vehicle_condition  \\\n",
       "0         conditions NaN                 NaN                   3   \n",
       "1  conditions Sandstorms              Medium                   2   \n",
       "2         conditions Fog                 Jam                   0   \n",
       "3      conditions Stormy                 Jam                   2   \n",
       "4         conditions Fog              Medium                   1   \n",
       "5         conditions Fog                High                   1   \n",
       "6  conditions Sandstorms                High                   0   \n",
       "7         conditions NaN                 NaN                   3   \n",
       "8  conditions Sandstorms                 Jam                   1   \n",
       "9      conditions Cloudy                 Low                   2   \n",
       "\n",
       "  Type_of_order    Type_of_vehicle multiple_deliveries Festival  \\\n",
       "0       Buffet   electric_scooter                    1      No    \n",
       "1       Drinks   electric_scooter                    1      No    \n",
       "2         Meal         motorcycle                    2      No    \n",
       "3       Buffet         motorcycle                    0      No    \n",
       "4        Snack         motorcycle                    1      No    \n",
       "5        Snack         motorcycle                    1      No    \n",
       "6       Buffet         motorcycle                    0      No    \n",
       "7       Buffet            bicycle                    1      No    \n",
       "8        Snack         motorcycle                    1      No    \n",
       "9         Meal            scooter                    0      No    \n",
       "\n",
       "             City Time_taken(min)  \n",
       "0  Metropolitian         (min) 21  \n",
       "1          Urban         (min) 24  \n",
       "2  Metropolitian         (min) 43  \n",
       "3          Urban         (min) 24  \n",
       "4            NaN         (min) 19  \n",
       "5  Metropolitian         (min) 20  \n",
       "6  Metropolitian         (min) 38  \n",
       "7  Metropolitian         (min) 26  \n",
       "8  Metropolitian         (min) 29  \n",
       "9          Urban         (min) 18  "
      ]
     },
     "execution_count": 2,
     "metadata": {},
     "output_type": "execute_result"
    }
   ],
   "source": [
    "#Loading the data\n",
    "df = pd.read_csv(\"../data/uber-eats-deliveries.csv\")\n",
    "df.head(10)"
   ]
  },
  {
   "cell_type": "code",
   "execution_count": 3,
   "metadata": {},
   "outputs": [
    {
     "name": "stdout",
     "output_type": "stream",
     "text": [
      "<class 'pandas.core.frame.DataFrame'>\n",
      "RangeIndex: 45593 entries, 0 to 45592\n",
      "Data columns (total 20 columns):\n",
      " #   Column                       Non-Null Count  Dtype  \n",
      "---  ------                       --------------  -----  \n",
      " 0   ID                           45593 non-null  object \n",
      " 1   Delivery_person_ID           45593 non-null  object \n",
      " 2   Delivery_person_Age          45593 non-null  object \n",
      " 3   Delivery_person_Ratings      45593 non-null  object \n",
      " 4   Restaurant_latitude          45593 non-null  float64\n",
      " 5   Restaurant_longitude         45593 non-null  float64\n",
      " 6   Delivery_location_latitude   45593 non-null  float64\n",
      " 7   Delivery_location_longitude  45593 non-null  float64\n",
      " 8   Order_Date                   45593 non-null  object \n",
      " 9   Time_Orderd                  45593 non-null  object \n",
      " 10  Time_Order_picked            45593 non-null  object \n",
      " 11  Weatherconditions            45593 non-null  object \n",
      " 12  Road_traffic_density         45593 non-null  object \n",
      " 13  Vehicle_condition            45593 non-null  int64  \n",
      " 14  Type_of_order                45593 non-null  object \n",
      " 15  Type_of_vehicle              45593 non-null  object \n",
      " 16  multiple_deliveries          45593 non-null  object \n",
      " 17  Festival                     45593 non-null  object \n",
      " 18  City                         45593 non-null  object \n",
      " 19  Time_taken(min)              45593 non-null  object \n",
      "dtypes: float64(4), int64(1), object(15)\n",
      "memory usage: 7.0+ MB\n"
     ]
    }
   ],
   "source": [
    "df.info()"
   ]
  },
  {
   "cell_type": "markdown",
   "metadata": {},
   "source": [
    "## Notes\n",
    "1. Check for missing(Null) values. are there any highest orders from a single customer\n",
    "2. Check for zero values\n",
    "3. Check for duplicate rows not for duplicate id's or duplicate_person_id as a \n",
    "   customer can make multiple orders and delivery partner(DP) can do multiple deliveries\n",
    "4. Check Outliers in Delivery person age and see the data distribution of DP age \n",
    "    and make plots against DP age VS the time taken to deliver\n",
    "5. Check for 0 ratings(This can happen when a new DP joined) and outlier ratings. \n",
    "    Make plots for ratings and the Time_taken(min)\n",
    "    make plots for ratings and the distance travelled(write a c=function to calculate distance)\n",
    "6. For Restaurant_latitude, Restaurant_longitude, Delivery_location_latitude, Delivery_location_longitude\n",
    "    write to function to check whether the latitude and logitude are valid and both the latitude and longitude are pointing to a vlaid location. \n",
    "    Write a function to calcuate the distance between restaurant location and delivery location\n",
    "7. Check for missing and outliers in Date.\n",
    "    Plot for dates and the time_taken. See any patterns for the seasonality/trend \n",
    "9. Check for missing and outliers in time ordered.\n",
    "    Plot for no.of orders placed during that time and the time_taken. See any patterns for the seasonality/trend. Check when are the highest number of orders placed. \n",
    "10. Time order picked. Write a function to calculate the time diff b/w the order placed and picked.\n",
    "    See the relation b/e the time diff and the Time_taken(min)\n",
    "11. How weather conditions are effecting the time_taken(min) using plots\n",
    "12. Road_traffic_density is one of the key feature. Plotting this can reveal interesting points such as\n",
    "    to avoid any routes or placing a surge during that particular time when the road traffic density is high.\n",
    "13. Vehicle-condition has to be good. Plot the consditon Vs Time_taken. Incentivize the DP for vehicles to \n",
    "    improve the time_taken\n",
    "14. type_of_order plays a crucial role as some items requires more time to prepare the food\n",
    "15. Type-of_vehicle also has an impact as some low power vehicles take more time\n",
    "16. If a DP is doing multiple deliveries then there might be a chance of some deliveries getting delayed\n",
    "17. Festival times can be tricky, because during some festivals the roads will be empty and for some\n",
    "    festivals roads will be full. For some festivals customers prefer ordering food. For some festivasl customers prefer making food in home itself.\n",
    "18. City : If it is urban, Semi-Urban, Metropolitan\n",
    "\n",
    "\n"
   ]
  },
  {
   "cell_type": "code",
   "execution_count": 4,
   "metadata": {},
   "outputs": [
    {
     "data": {
      "text/plain": [
       "Index(['ID', 'Delivery_person_ID', 'Delivery_person_Age',\n",
       "       'Delivery_person_Ratings', 'Restaurant_latitude',\n",
       "       'Restaurant_longitude', 'Delivery_location_latitude',\n",
       "       'Delivery_location_longitude', 'Order_Date', 'Time_Orderd',\n",
       "       'Time_Order_picked', 'Weatherconditions', 'Road_traffic_density',\n",
       "       'Vehicle_condition', 'Type_of_order', 'Type_of_vehicle',\n",
       "       'multiple_deliveries', 'Festival', 'City', 'Time_taken(min)'],\n",
       "      dtype='object')"
      ]
     },
     "execution_count": 4,
     "metadata": {},
     "output_type": "execute_result"
    }
   ],
   "source": [
    "df.columns"
   ]
  },
  {
   "cell_type": "markdown",
   "metadata": {},
   "source": [
    "## Convert string formatted numeric data to numeric columns\n"
   ]
  },
  {
   "cell_type": "code",
   "execution_count": 5,
   "metadata": {},
   "outputs": [
    {
     "name": "stdout",
     "output_type": "stream",
     "text": [
      "Delivery_person_Age\n",
      "Delivery_person_Ratings\n",
      "Restaurant_latitude\n",
      "Restaurant_longitude\n",
      "Delivery_location_latitude\n",
      "Delivery_location_longitude\n",
      "Vehicle_condition\n",
      "multiple_deliveries\n"
     ]
    }
   ],
   "source": [
    "def convert_string_to_numeric(x):\n",
    "    if x is None or x == \"\":\n",
    "        return pd.NA\n",
    "    try:\n",
    "        return float(x)\n",
    "    except ValueError :\n",
    "        return pd.NA\n",
    "\n",
    "numeric_columns = ['Delivery_person_Age',\n",
    "       'Delivery_person_Ratings', 'Restaurant_latitude',\n",
    "       'Restaurant_longitude', 'Delivery_location_latitude',\n",
    "       'Delivery_location_longitude', 'Vehicle_condition', \n",
    "       'multiple_deliveries', 'Time_taken(min)']\n",
    "\n",
    "for col in numeric_columns:\n",
    "    if col == \"Time_taken(min)\":\n",
    "        df[col] = df[col].apply(lambda x : convert_string_to_numeric(re.search(r'\\d+', x).group()))\n",
    "    else:\n",
    "        print(col)\n",
    "        df[col] = df[col].apply(lambda x : convert_string_to_numeric(x))"
   ]
  },
  {
   "cell_type": "code",
   "execution_count": 6,
   "metadata": {},
   "outputs": [
    {
     "data": {
      "text/plain": [
       "ID                                       0xd7d3 \n",
       "Delivery_person_ID                DEHRES12DEL02 \n",
       "Delivery_person_Age                         39.0\n",
       "Delivery_person_Ratings                      4.1\n",
       "Restaurant_latitude                          0.0\n",
       "Restaurant_longitude                         0.0\n",
       "Delivery_location_latitude                  0.13\n",
       "Delivery_location_longitude                 0.13\n",
       "Order_Date                            14-02-2022\n",
       "Time_Orderd                             21:35:00\n",
       "Time_Order_picked                       21:40:00\n",
       "Weatherconditions              conditions Cloudy\n",
       "Road_traffic_density                        Jam \n",
       "Vehicle_condition                            1.0\n",
       "Type_of_order                            Drinks \n",
       "Type_of_vehicle                      motorcycle \n",
       "multiple_deliveries                          2.0\n",
       "Festival                                     No \n",
       "City                              Metropolitian \n",
       "Time_taken(min)                             39.0\n",
       "Name: 3456, dtype: object"
      ]
     },
     "execution_count": 6,
     "metadata": {},
     "output_type": "execute_result"
    }
   ],
   "source": [
    "df.iloc[3456]"
   ]
  },
  {
   "cell_type": "code",
   "execution_count": 7,
   "metadata": {},
   "outputs": [],
   "source": [
    "def check_null_values_and_format(df, col_name):\n",
    "    print(f\"The column {col_name} is of data type {df[col_name].dtype}\")\n",
    "    if df[col_name].isnull().sum() == 0:\n",
    "        return print(\"No Null values are there\")\n",
    "    else :\n",
    "        return print(\"Null values\")"
   ]
  },
  {
   "cell_type": "code",
   "execution_count": 8,
   "metadata": {},
   "outputs": [
    {
     "name": "stdout",
     "output_type": "stream",
     "text": [
      "The column ID is of data type object\n",
      "No Null values are there\n",
      "The column Delivery_person_ID is of data type object\n",
      "No Null values are there\n"
     ]
    }
   ],
   "source": [
    "check_null_values_and_format(df, \"ID\")\n",
    "check_null_values_and_format(df, \"Delivery_person_ID\")"
   ]
  },
  {
   "cell_type": "markdown",
   "metadata": {},
   "source": [
    "# Data Preprocessing"
   ]
  },
  {
   "cell_type": "code",
   "execution_count": 9,
   "metadata": {},
   "outputs": [],
   "source": [
    "#Remove records with no ID\n",
    "def remove_records_with_no_ID(df, col_name):\n",
    "    df = df.dropna(subset = [col_name])\n",
    "    return df\n",
    "\n",
    "### next improvement is to come with a strategy to handle orders with no order ID"
   ]
  },
  {
   "cell_type": "code",
   "execution_count": 10,
   "metadata": {},
   "outputs": [
    {
     "name": "stdout",
     "output_type": "stream",
     "text": [
      "(45593, 20)\n",
      "(45593, 20)\n"
     ]
    }
   ],
   "source": [
    "print(df.shape)\n",
    "df = remove_records_with_no_ID(df, \"ID\")\n",
    "print(df.shape)"
   ]
  },
  {
   "cell_type": "markdown",
   "metadata": {},
   "source": [
    "# A look through data"
   ]
  },
  {
   "cell_type": "code",
   "execution_count": 11,
   "metadata": {},
   "outputs": [
    {
     "data": {
      "text/plain": [
       "array([nan, 50., 39., 38., 37., 36., 35., 34., 33., 32., 31., 30., 29.,\n",
       "       28., 27., 26., 25., 24., 23., 22., 21., 20., 15.])"
      ]
     },
     "execution_count": 11,
     "metadata": {},
     "output_type": "execute_result"
    }
   ],
   "source": [
    "df[\"Delivery_person_Age\"].unique()"
   ]
  },
  {
   "cell_type": "code",
   "execution_count": 12,
   "metadata": {},
   "outputs": [
    {
     "data": {
      "text/plain": [
       "array([nan, 6. , 4.1, 4.2, 5. , 4.6, 4.3, 4.4, 4.7, 4.9, 4.8, 4. , 3.6,\n",
       "       3.5, 3.9, 4.5, 3.7, 3.8, 3.4, 3. , 3.1, 3.2, 3.3, 2.7, 2.6, 2.5,\n",
       "       2.9, 2.8, 1. ])"
      ]
     },
     "execution_count": 12,
     "metadata": {},
     "output_type": "execute_result"
    }
   ],
   "source": [
    "df[\"Delivery_person_Ratings\"].unique()"
   ]
  },
  {
   "cell_type": "code",
   "execution_count": 13,
   "metadata": {},
   "outputs": [
    {
     "data": {
      "text/plain": [
       "(array(['3/4/22', '3/3/22', '25-03-2022', '31-03-2022', '13-03-2022',\n",
       "        '11/3/22', '6/3/22', '1/4/22', '1/3/22', '2/3/22', '20-03-2022',\n",
       "        '21-03-2022', '10/3/22', '28-03-2022', '5/4/22', '7/3/22',\n",
       "        '14-03-2022', '6/4/22', '29-03-2022', '16-03-2022', '4/3/22',\n",
       "        '8/3/22', '18-03-2022', '19-03-2022', '4/4/22', '17-03-2022',\n",
       "        '24-03-2022', '2/4/22', '5/3/22', '23-03-2022', '15-03-2022',\n",
       "        '27-03-2022', '26-03-2022', '9/3/22', '30-03-2022', '12/3/22',\n",
       "        '17-02-2022', '13-02-2022', '14-02-2022', '11/2/22', '15-02-2022',\n",
       "        '18-02-2022', '16-02-2022', '12/2/22'], dtype=object),\n",
       " array(['NaN ', '19:55:00', '20:10:00', '9:40:00', '18:40:00', '19:35:00',\n",
       "        '20:15:00', '19:00:00', '20:45:00', '23:15:00', '9:30:00',\n",
       "        '21:45:00', '8:20:00', '11:35:00', '17:10:00', '14:30:00',\n",
       "        '12:50:00', '10:10:00', '10:15:00', '17:40:00', '21:00:00',\n",
       "        '20:50:00', '11:10:00', '16:50:00', '14:20:00', '17:20:00',\n",
       "        '13:30:00', '21:15:00', '20:55:00', '16:40:00', '12:35:00',\n",
       "        '9:10:00', '18:35:00', '22:40:00', '21:40:00', '21:35:00',\n",
       "        '21:30:00', '11:25:00', '22:25:00', '20:20:00', '13:10:00',\n",
       "        '23:00:00', '17:45:00', '19:25:00', '22:45:00', '15:25:00',\n",
       "        '14:45:00', '9:45:00', '22:20:00', '19:30:00', '18:45:00',\n",
       "        '10:40:00', '17:55:00', '14:10:00', '8:25:00', '23:25:00',\n",
       "        '14:55:00', '22:35:00', '17:30:00', '23:10:00', '8:55:00',\n",
       "        '21:50:00', '20:00:00', '23:20:00', '17:50:00', '11:50:00',\n",
       "        '22:15:00', '23:40:00', '8:35:00', '20:35:00', '21:10:00',\n",
       "        '12:20:00', '19:45:00', '16:00:00', '22:00:00', '10:20:00',\n",
       "        '23:50:00', '0:00:00', '9:15:00', '20:30:00', '22:50:00',\n",
       "        '18:55:00', '17:35:00', '10:30:00', '11:20:00', '9:50:00',\n",
       "        '9:20:00', '10:55:00', '10:45:00', '20:40:00', '19:15:00',\n",
       "        '19:10:00', '21:20:00', '12:45:00', '22:55:00', '11:45:00',\n",
       "        '21:55:00', '13:55:00', '18:15:00', '23:45:00', '8:30:00',\n",
       "        '19:40:00', '11:40:00', '13:50:00', '18:00:00', '8:15:00',\n",
       "        '19:20:00', '13:40:00', '9:25:00', '21:25:00', '20:25:00',\n",
       "        '11:00:00', '14:25:00', '14:00:00', '15:10:00', '18:25:00',\n",
       "        '9:35:00', '12:30:00', '13:45:00', '17:25:00', '23:55:00',\n",
       "        '10:35:00', '18:30:00', '17:15:00', '18:50:00', '8:10:00',\n",
       "        '22:10:00', '15:55:00', '10:50:00', '16:55:00', '16:35:00',\n",
       "        '23:35:00', '9:55:00', '14:50:00', '23:30:00', '18:10:00',\n",
       "        '10:25:00', '9:00:00', '13:00:00', '14:15:00', '17:00:00',\n",
       "        '22:30:00', '19:50:00', '18:20:00', '11:30:00', '12:40:00',\n",
       "        '16:15:00', '12:00:00', '8:45:00', '14:40:00', '10:00:00',\n",
       "        '16:10:00', '13:15:00', '15:45:00', '16:45:00', '12:55:00',\n",
       "        '12:25:00', '13:20:00', '16:20:00', '15:30:00', '12:15:00',\n",
       "        '15:50:00', '16:25:00', '8:40:00', '14:35:00', '11:55:00',\n",
       "        '16:30:00', '15:15:00', '12:10:00', '11:15:00', '8:50:00',\n",
       "        '15:35:00', '13:25:00', '15:20:00', '15:00:00', '15:40:00',\n",
       "        '13:35:00'], dtype=object))"
      ]
     },
     "execution_count": 13,
     "metadata": {},
     "output_type": "execute_result"
    }
   ],
   "source": [
    "df[\"Order_Date\"].unique(), df[\"Time_Orderd\"].unique()"
   ]
  },
  {
   "cell_type": "code",
   "execution_count": 14,
   "metadata": {},
   "outputs": [
    {
     "data": {
      "text/plain": [
       "array(['23:30:00', '18:05:00', '21:00:00', '19:55:00', '15:50:00',\n",
       "       '13:45:00', '13:40:00', '18:55:00', '20:20:00', '22:45:00',\n",
       "       '19:25:00', '8:50:00', '20:00:00', '20:25:00', '17:55:00',\n",
       "       '9:55:00', '19:30:00', '9:30:00', '9:20:00', '9:00:00', '22:00:00',\n",
       "       '13:30:00', '0:05:00', '22:30:00', '11:10:00', '9:45:00',\n",
       "       '19:45:00', '21:05:00', '17:30:00', '20:35:00', '9:35:00',\n",
       "       '12:00:00', '21:50:00', '21:10:00', '13:00:00', '23:00:00',\n",
       "       '11:30:00', '19:40:00', '18:50:00', '10:15:00', '20:30:00',\n",
       "       '17:35:00', '19:15:00', '0:10:00', '22:40:00', '9:05:00',\n",
       "       '20:45:00', '22:55:00', '23:20:00', '10:05:00', '16:40:00',\n",
       "       '22:50:00', '14:25:00', '23:40:00', '9:25:00', '11:35:00',\n",
       "       '20:55:00', '19:00:00', '22:15:00', '18:30:00', '8:45:00',\n",
       "       '22:05:00', '9:40:00', '19:50:00', '21:45:00', '22:20:00',\n",
       "       '13:35:00', '10:50:00', '17:50:00', '18:25:00', '10:35:00',\n",
       "       '13:05:00', '8:40:00', '18:35:00', '23:05:00', '21:35:00',\n",
       "       '8:25:00', '23:55:00', '17:10:00', '14:50:00', '17:20:00',\n",
       "       '18:40:00', '11:45:00', '20:05:00', '10:30:00', '14:40:00',\n",
       "       '16:10:00', '17:25:00', '21:40:00', '11:25:00', '11:50:00',\n",
       "       '15:30:00', '10:20:00', '17:45:00', '14:10:00', '23:25:00',\n",
       "       '21:15:00', '20:50:00', '20:40:00', '11:15:00', '9:50:00',\n",
       "       '14:35:00', '16:55:00', '8:55:00', '17:40:00', '23:45:00',\n",
       "       '23:35:00', '12:25:00', '22:35:00', '13:20:00', '23:50:00',\n",
       "       '14:30:00', '0:15:00', '21:30:00', '18:10:00', '8:20:00',\n",
       "       '23:15:00', '20:10:00', '10:55:00', '0:00:00', '19:20:00',\n",
       "       '22:10:00', '12:50:00', '9:10:00', '8:30:00', '9:15:00',\n",
       "       '15:35:00', '21:55:00', '18:15:00', '18:45:00', '13:15:00',\n",
       "       '10:00:00', '17:15:00', '19:05:00', '13:50:00', '12:10:00',\n",
       "       '16:05:00', '10:45:00', '15:20:00', '8:35:00', '18:20:00',\n",
       "       '12:40:00', '18:00:00', '19:10:00', '10:10:00', '11:40:00',\n",
       "       '10:40:00', '12:55:00', '14:55:00', '12:35:00', '12:20:00',\n",
       "       '11:00:00', '19:35:00', '17:00:00', '15:15:00', '15:10:00',\n",
       "       '15:25:00', '15:05:00', '21:25:00', '14:20:00', '22:25:00',\n",
       "       '15:00:00', '11:05:00', '16:50:00', '15:45:00', '12:05:00',\n",
       "       '21:20:00', '14:45:00', '16:30:00', '13:10:00', '14:05:00',\n",
       "       '16:15:00', '13:55:00', '23:10:00', '12:45:00', '20:15:00',\n",
       "       '16:35:00', '12:30:00', '8:15:00', '14:00:00', '12:15:00',\n",
       "       '15:55:00', '15:40:00', '11:55:00', '11:20:00', '16:20:00',\n",
       "       '16:25:00', '16:00:00', '14:15:00', '16:45:00', '10:25:00',\n",
       "       '17:05:00', '13:25:00'], dtype=object)"
      ]
     },
     "execution_count": 14,
     "metadata": {},
     "output_type": "execute_result"
    }
   ],
   "source": [
    "df[\"Time_Order_picked\"].unique()"
   ]
  },
  {
   "cell_type": "markdown",
   "metadata": {},
   "source": [
    "## There is a Not a number(NaN) values  but this present as a string -> 'NaN ' with a tab space\n",
    "### In general these kind of values pass through the pd.isna() pr pd.isnull() condition\n",
    "### TTreat these values as special and write the functions\n",
    "### Replace this 'NaN ' as pd.NA"
   ]
  },
  {
   "cell_type": "code",
   "execution_count": 15,
   "metadata": {},
   "outputs": [],
   "source": [
    "### Replace 'NaN ' as pd.NA\n",
    "def replace_string_na_with_NA(df):\n",
    "    return df.replace('NaN ' , pd.NA)\n",
    "\n",
    "df = replace_string_na_with_NA(df)"
   ]
  },
  {
   "cell_type": "markdown",
   "metadata": {},
   "source": [
    "## Filling missing or null latitde and logitude values"
   ]
  },
  {
   "cell_type": "code",
   "execution_count": 16,
   "metadata": {},
   "outputs": [],
   "source": [
    "#Check latitude\n",
    "def is_latitude(value):\n",
    "    return -90<=value<=90\n",
    "\n",
    "#Check longitude\n",
    "def is_longitude(value):\n",
    "    return -180<=value<=180\n",
    "\n",
    "### Replace 0 or other non latitude and longitude values\n",
    "def replace_non_lat_lang_with_NA(df, geography_col):\n",
    "    if geography_col.endswith(\"latitude\"):\n",
    "        df[geography_col] = df[geography_col].apply(lambda x : pd.NA if x is not None \n",
    "                                                    and not is_latitude(x) else x)\n",
    "    elif geography_col.endswith(\"longitude\"):\n",
    "        df[geography_col] = df[geography_col].apply(lambda x : pd.NA if x is not None \n",
    "                                                    and not is_longitude(x) else x)\n",
    "    else:\n",
    "        pass\n",
    "    return df\n",
    "\n",
    "\n",
    "geogrpahy_columns = []\n",
    "for col_name in df.columns:\n",
    "    if col_name.endswith(\"latitude\") or col_name.endswith(\"longitude\"):\n",
    "        geogrpahy_columns.append(col_name)\n",
    "\n",
    "for col in geogrpahy_columns:\n",
    "    replace_non_lat_lang_with_NA(df, col)"
   ]
  },
  {
   "cell_type": "code",
   "execution_count": 17,
   "metadata": {},
   "outputs": [
    {
     "data": {
      "text/plain": [
       "array(['3/4/22', '3/3/22', '25-03-2022', '31-03-2022', '13-03-2022',\n",
       "       '11/3/22', '6/3/22', '1/4/22', '1/3/22', '2/3/22', '20-03-2022',\n",
       "       '21-03-2022', '10/3/22', '28-03-2022', '5/4/22', '7/3/22',\n",
       "       '14-03-2022', '6/4/22', '29-03-2022', '16-03-2022', '4/3/22',\n",
       "       '8/3/22', '18-03-2022', '19-03-2022', '4/4/22', '17-03-2022',\n",
       "       '24-03-2022', '2/4/22', '5/3/22', '23-03-2022', '15-03-2022',\n",
       "       '27-03-2022', '26-03-2022', '9/3/22', '30-03-2022', '12/3/22',\n",
       "       '17-02-2022', '13-02-2022', '14-02-2022', '11/2/22', '15-02-2022',\n",
       "       '18-02-2022', '16-02-2022', '12/2/22'], dtype=object)"
      ]
     },
     "execution_count": 17,
     "metadata": {},
     "output_type": "execute_result"
    }
   ],
   "source": [
    "df[\"Order_Date\"].unique()\n",
    "# No Nan or missing values"
   ]
  },
  {
   "cell_type": "code",
   "execution_count": 18,
   "metadata": {},
   "outputs": [
    {
     "name": "stderr",
     "output_type": "stream",
     "text": [
      "/var/folders/m4/y98c53d15dg1mt8b2xxsb6s40000gn/T/ipykernel_5252/212370152.py:3: UserWarning: Could not infer format, so each element will be parsed individually, falling back to `dateutil`. To ensure parsing is consistent and as-expected, please specify a format.\n",
      "  df[date_column] = pd.to_datetime(df[date_column], errors='coerce', dayfirst= True)\n"
     ]
    }
   ],
   "source": [
    "## Converting all date formats into a single format\n",
    "def convert_into_ddmmyyyy_format(df, date_column):\n",
    "    df[date_column] = pd.to_datetime(df[date_column], errors='coerce', dayfirst= True)\n",
    "    df[\"date_column_ddmmyyy\"] = df[date_column].dt.strftime('%d%m%Y')\n",
    "    return df\n",
    "\n",
    "df = convert_into_ddmmyyyy_format(df, \"Order_Date\")"
   ]
  },
  {
   "cell_type": "code",
   "execution_count": 19,
   "metadata": {},
   "outputs": [
    {
     "data": {
      "text/plain": [
       "np.int64(1731)"
      ]
     },
     "execution_count": 19,
     "metadata": {},
     "output_type": "execute_result"
    }
   ],
   "source": [
    "df[\"Time_Orderd\"].isna().sum()\n",
    "# We have a total 1731 missing values of Time ordered\n",
    "# Remove rows where Time Ordered is missing "
   ]
  },
  {
   "cell_type": "code",
   "execution_count": 20,
   "metadata": {},
   "outputs": [
    {
     "data": {
      "text/plain": [
       "np.int64(0)"
      ]
     },
     "execution_count": 20,
     "metadata": {},
     "output_type": "execute_result"
    }
   ],
   "source": [
    "df[\"Time_Order_picked\"].isna().sum()\n",
    "# We have a total 0 missing values of Time ordered\n"
   ]
  },
  {
   "cell_type": "code",
   "execution_count": 21,
   "metadata": {},
   "outputs": [],
   "source": [
    "df[\"Weatherconditions\"].unique()\n",
    "#preplacing missing NaN with pd.NA\n",
    "df[\"Weatherconditions\"] = df[\"Weatherconditions\"].replace('conditions NaN', pd.NA)\n",
    "## We can fill missing values by taking a guess at the date and put a season for particualr months"
   ]
  },
  {
   "cell_type": "code",
   "execution_count": 22,
   "metadata": {},
   "outputs": [],
   "source": [
    "df[\"Road_traffic_density\"].unique()\n",
    "df[\"Road_traffic_density\"].value_counts()\n",
    "## Jam means more than high traffice density\n",
    "# Low traffic density is vehicles are moving fast\n",
    "## If we can draw a relation between time of the day and road traffic density \n",
    "## then we can fill Road_traffic_density missing values\n",
    "df[\"Road_traffic_density\"] = df[\"Road_traffic_density\"].replace('conditions NaN', pd.NA)"
   ]
  },
  {
   "cell_type": "code",
   "execution_count": 23,
   "metadata": {},
   "outputs": [
    {
     "data": {
      "text/plain": [
       "array([3., 2., 0., 1.])"
      ]
     },
     "execution_count": 23,
     "metadata": {},
     "output_type": "execute_result"
    }
   ],
   "source": [
    "df[\"Vehicle_condition\"].unique()\n",
    "#No missing values"
   ]
  },
  {
   "cell_type": "code",
   "execution_count": 24,
   "metadata": {},
   "outputs": [
    {
     "data": {
      "text/plain": [
       "array(['Buffet ', 'Drinks ', 'Meal ', 'Snack '], dtype=object)"
      ]
     },
     "execution_count": 24,
     "metadata": {},
     "output_type": "execute_result"
    }
   ],
   "source": [
    "df[\"Type_of_order\"].unique()\n",
    "#No missing values"
   ]
  },
  {
   "cell_type": "code",
   "execution_count": 25,
   "metadata": {},
   "outputs": [
    {
     "data": {
      "text/plain": [
       "array(['electric_scooter ', 'motorcycle ', 'bicycle ', 'scooter '],\n",
       "      dtype=object)"
      ]
     },
     "execution_count": 25,
     "metadata": {},
     "output_type": "execute_result"
    }
   ],
   "source": [
    "df[\"Type_of_vehicle\"].unique()\n",
    "#No missing values"
   ]
  },
  {
   "cell_type": "code",
   "execution_count": 26,
   "metadata": {},
   "outputs": [
    {
     "data": {
      "text/plain": [
       "array([ 1.,  2.,  0.,  3., nan])"
      ]
     },
     "execution_count": 26,
     "metadata": {},
     "output_type": "execute_result"
    }
   ],
   "source": [
    "df[\"multiple_deliveries\"].unique()\n",
    "#No missing values\n",
    "#Replace with median "
   ]
  },
  {
   "cell_type": "code",
   "execution_count": 27,
   "metadata": {},
   "outputs": [
    {
     "data": {
      "text/plain": [
       "array(['No ', 'Yes ', <NA>], dtype=object)"
      ]
     },
     "execution_count": 27,
     "metadata": {},
     "output_type": "execute_result"
    }
   ],
   "source": [
    "df[\"Festival\"].unique()"
   ]
  },
  {
   "cell_type": "code",
   "execution_count": 28,
   "metadata": {},
   "outputs": [
    {
     "data": {
      "text/plain": [
       "array(['Metropolitian ', 'Urban ', <NA>, 'Semi-Urban '], dtype=object)"
      ]
     },
     "execution_count": 28,
     "metadata": {},
     "output_type": "execute_result"
    }
   ],
   "source": [
    "df[\"City\"].unique()"
   ]
  },
  {
   "cell_type": "code",
   "execution_count": 29,
   "metadata": {},
   "outputs": [
    {
     "data": {
      "text/plain": [
       "np.int64(0)"
      ]
     },
     "execution_count": 29,
     "metadata": {},
     "output_type": "execute_result"
    }
   ],
   "source": [
    "df[\"Time_taken(min)\"].isnull().sum()"
   ]
  },
  {
   "cell_type": "code",
   "execution_count": 30,
   "metadata": {},
   "outputs": [
    {
     "name": "stderr",
     "output_type": "stream",
     "text": [
      "/var/folders/m4/y98c53d15dg1mt8b2xxsb6s40000gn/T/ipykernel_5252/2940592197.py:5: FutureWarning: The behavior of DataFrame concatenation with empty or all-NA entries is deprecated. In a future version, this will no longer exclude empty or all-NA columns when determining the result dtypes. To retain the old behavior, exclude the relevant entries before the concat operation.\n",
      "  missing_values_df = pd.concat([missing_values_df,\n"
     ]
    },
    {
     "data": {
      "text/html": [
       "<div>\n",
       "<style scoped>\n",
       "    .dataframe tbody tr th:only-of-type {\n",
       "        vertical-align: middle;\n",
       "    }\n",
       "\n",
       "    .dataframe tbody tr th {\n",
       "        vertical-align: top;\n",
       "    }\n",
       "\n",
       "    .dataframe thead th {\n",
       "        text-align: right;\n",
       "    }\n",
       "</style>\n",
       "<table border=\"1\" class=\"dataframe\">\n",
       "  <thead>\n",
       "    <tr style=\"text-align: right;\">\n",
       "      <th></th>\n",
       "      <th>Column</th>\n",
       "      <th>MissingPercentage</th>\n",
       "    </tr>\n",
       "  </thead>\n",
       "  <tbody>\n",
       "    <tr>\n",
       "      <th>0</th>\n",
       "      <td>ID</td>\n",
       "      <td>0.000000</td>\n",
       "    </tr>\n",
       "    <tr>\n",
       "      <th>1</th>\n",
       "      <td>Delivery_person_ID</td>\n",
       "      <td>0.000000</td>\n",
       "    </tr>\n",
       "    <tr>\n",
       "      <th>2</th>\n",
       "      <td>Delivery_person_Age</td>\n",
       "      <td>4.066414</td>\n",
       "    </tr>\n",
       "    <tr>\n",
       "      <th>3</th>\n",
       "      <td>Delivery_person_Ratings</td>\n",
       "      <td>4.184853</td>\n",
       "    </tr>\n",
       "    <tr>\n",
       "      <th>4</th>\n",
       "      <td>Restaurant_latitude</td>\n",
       "      <td>0.000000</td>\n",
       "    </tr>\n",
       "    <tr>\n",
       "      <th>5</th>\n",
       "      <td>Restaurant_longitude</td>\n",
       "      <td>0.000000</td>\n",
       "    </tr>\n",
       "    <tr>\n",
       "      <th>6</th>\n",
       "      <td>Delivery_location_latitude</td>\n",
       "      <td>0.000000</td>\n",
       "    </tr>\n",
       "    <tr>\n",
       "      <th>7</th>\n",
       "      <td>Delivery_location_longitude</td>\n",
       "      <td>0.000000</td>\n",
       "    </tr>\n",
       "    <tr>\n",
       "      <th>8</th>\n",
       "      <td>Order_Date</td>\n",
       "      <td>0.000000</td>\n",
       "    </tr>\n",
       "    <tr>\n",
       "      <th>9</th>\n",
       "      <td>Time_Orderd</td>\n",
       "      <td>3.796635</td>\n",
       "    </tr>\n",
       "    <tr>\n",
       "      <th>10</th>\n",
       "      <td>Time_Order_picked</td>\n",
       "      <td>0.000000</td>\n",
       "    </tr>\n",
       "    <tr>\n",
       "      <th>11</th>\n",
       "      <td>Weatherconditions</td>\n",
       "      <td>1.351085</td>\n",
       "    </tr>\n",
       "    <tr>\n",
       "      <th>12</th>\n",
       "      <td>Road_traffic_density</td>\n",
       "      <td>1.318185</td>\n",
       "    </tr>\n",
       "    <tr>\n",
       "      <th>13</th>\n",
       "      <td>Vehicle_condition</td>\n",
       "      <td>0.000000</td>\n",
       "    </tr>\n",
       "    <tr>\n",
       "      <th>14</th>\n",
       "      <td>Type_of_order</td>\n",
       "      <td>0.000000</td>\n",
       "    </tr>\n",
       "    <tr>\n",
       "      <th>15</th>\n",
       "      <td>Type_of_vehicle</td>\n",
       "      <td>0.000000</td>\n",
       "    </tr>\n",
       "    <tr>\n",
       "      <th>16</th>\n",
       "      <td>multiple_deliveries</td>\n",
       "      <td>2.177966</td>\n",
       "    </tr>\n",
       "    <tr>\n",
       "      <th>17</th>\n",
       "      <td>Festival</td>\n",
       "      <td>0.500077</td>\n",
       "    </tr>\n",
       "    <tr>\n",
       "      <th>18</th>\n",
       "      <td>City</td>\n",
       "      <td>2.631983</td>\n",
       "    </tr>\n",
       "    <tr>\n",
       "      <th>19</th>\n",
       "      <td>Time_taken(min)</td>\n",
       "      <td>0.000000</td>\n",
       "    </tr>\n",
       "    <tr>\n",
       "      <th>20</th>\n",
       "      <td>date_column_ddmmyyy</td>\n",
       "      <td>0.000000</td>\n",
       "    </tr>\n",
       "  </tbody>\n",
       "</table>\n",
       "</div>"
      ],
      "text/plain": [
       "                         Column  MissingPercentage\n",
       "0                            ID           0.000000\n",
       "1            Delivery_person_ID           0.000000\n",
       "2           Delivery_person_Age           4.066414\n",
       "3       Delivery_person_Ratings           4.184853\n",
       "4           Restaurant_latitude           0.000000\n",
       "5          Restaurant_longitude           0.000000\n",
       "6    Delivery_location_latitude           0.000000\n",
       "7   Delivery_location_longitude           0.000000\n",
       "8                    Order_Date           0.000000\n",
       "9                   Time_Orderd           3.796635\n",
       "10            Time_Order_picked           0.000000\n",
       "11            Weatherconditions           1.351085\n",
       "12         Road_traffic_density           1.318185\n",
       "13            Vehicle_condition           0.000000\n",
       "14                Type_of_order           0.000000\n",
       "15              Type_of_vehicle           0.000000\n",
       "16          multiple_deliveries           2.177966\n",
       "17                     Festival           0.500077\n",
       "18                         City           2.631983\n",
       "19              Time_taken(min)           0.000000\n",
       "20          date_column_ddmmyyy           0.000000"
      ]
     },
     "execution_count": 30,
     "metadata": {},
     "output_type": "execute_result"
    }
   ],
   "source": [
    "## Calculating % of missing values in each column\n",
    "missing_values_df = pd.DataFrame(columns=[\"Column\", \"MissingPercentage\"])\n",
    "for index, col_name in enumerate(df.columns):\n",
    "    num_missing_values = df[col_name].isnull().sum()\n",
    "    missing_values_df = pd.concat([missing_values_df, \n",
    "                                  pd.DataFrame({\"Column\": col_name , \n",
    "                                                \"MissingPercentage\" :[num_missing_values/df.shape[0]*100]})])\n",
    "\n",
    "missing_values_df.reset_index(drop=True, inplace=True)\n",
    "missing_values_df"
   ]
  },
  {
   "cell_type": "markdown",
   "metadata": {},
   "source": [
    "# Filling missing values\n",
    "### 1. Delivery_person_Age\n",
    "### 2. Delivery_person_Ratings\n",
    "### 3. Time_Orderd\n",
    "### 4. Weatherconditions\n",
    "### 5. Road_traffic_density\n",
    "### 6. Multiple_deliveries\n",
    "### 7. Festival\n",
    "### 8. City\n"
   ]
  },
  {
   "cell_type": "code",
   "execution_count": 31,
   "metadata": {},
   "outputs": [
    {
     "data": {
      "image/png": "[encoded data removed]",
      "text/plain": [
       "<Figure size 1000x600 with 1 Axes>"
      ]
     },
     "metadata": {},
     "output_type": "display_data"
    }
   ],
   "source": [
    "plt.figure(figsize = (10, 6))\n",
    "\n",
    "sns.heatmap(df.isna(), cmap = 'Blues_r', cbar = False);"
   ]
  },
  {
   "cell_type": "code",
   "execution_count": 32,
   "metadata": {},
   "outputs": [
    {
     "name": "stderr",
     "output_type": "stream",
     "text": [
      "/var/folders/m4/y98c53d15dg1mt8b2xxsb6s40000gn/T/ipykernel_5252/2965447373.py:2: FutureWarning: \n",
      "\n",
      "Passing `palette` without assigning `hue` is deprecated and will be removed in v0.14.0. Assign the `x` variable to `hue` and set `legend=False` for the same effect.\n",
      "\n",
      "  sns.countplot(data = df[df.TotalNaN != 0], x = 'TotalNaN', palette = 'viridis', edgecolor = 'k')\n"
     ]
    },
    {
     "data": {
      "image/png": "[encoded data removed]",
      "text/plain": [
       "<Figure size 640x480 with 1 Axes>"
      ]
     },
     "metadata": {},
     "output_type": "display_data"
    }
   ],
   "source": [
    "df['TotalNaN'] = df.isna().sum(axis = 1)\n",
    "sns.countplot(data = df[df.TotalNaN != 0], x = 'TotalNaN', palette = 'viridis', edgecolor = 'k')\n",
    "\n",
    "plt.title('Total NaN (Per row)')\n",
    "plt.grid(False);"
   ]
  },
  {
   "cell_type": "code",
   "execution_count": 33,
   "metadata": {},
   "outputs": [
    {
     "data": {
      "text/plain": [
       "Delivery_person_Age            514\n",
       "Delivery_person_Ratings        514\n",
       "Time_Orderd                    514\n",
       "Weatherconditions              512\n",
       "Road_traffic_density           510\n",
       "City                            20\n",
       "multiple_deliveries             14\n",
       "Festival                         5\n",
       "Vehicle_condition                0\n",
       "date_column_ddmmyyy              0\n",
       "Time_taken(min)                  0\n",
       "Type_of_vehicle                  0\n",
       "Type_of_order                    0\n",
       "ID                               0\n",
       "Delivery_person_ID               0\n",
       "Time_Order_picked                0\n",
       "Order_Date                       0\n",
       "Delivery_location_longitude      0\n",
       "Delivery_location_latitude       0\n",
       "Restaurant_longitude             0\n",
       "Restaurant_latitude              0\n",
       "TotalNaN                         0\n",
       "dtype: int64"
      ]
     },
     "execution_count": 33,
     "metadata": {},
     "output_type": "execute_result"
    }
   ],
   "source": [
    "# Rows with more than 3 NaN values\n",
    "\n",
    "df[df['TotalNaN'] >= 5].isna().sum().sort_values(ascending = False)"
   ]
  },
  {
   "cell_type": "code",
   "execution_count": 34,
   "metadata": {},
   "outputs": [
    {
     "data": {
      "text/plain": [
       "514"
      ]
     },
     "execution_count": 34,
     "metadata": {},
     "output_type": "execute_result"
    }
   ],
   "source": [
    "# Number of Observations dropped\n",
    "\n",
    "df.shape[0] - df[df['TotalNaN'] < 5].shape[0]"
   ]
  },
  {
   "cell_type": "code",
   "execution_count": 35,
   "metadata": {},
   "outputs": [],
   "source": [
    "df = df[df['TotalNaN'] < 5]\n"
   ]
  },
  {
   "cell_type": "code",
   "execution_count": 36,
   "metadata": {},
   "outputs": [
    {
     "data": {
      "text/html": [
       "<div>\n",
       "<style scoped>\n",
       "    .dataframe tbody tr th:only-of-type {\n",
       "        vertical-align: middle;\n",
       "    }\n",
       "\n",
       "    .dataframe tbody tr th {\n",
       "        vertical-align: top;\n",
       "    }\n",
       "\n",
       "    .dataframe thead th {\n",
       "        text-align: right;\n",
       "    }\n",
       "</style>\n",
       "<table border=\"1\" class=\"dataframe\">\n",
       "  <thead>\n",
       "    <tr style=\"text-align: right;\">\n",
       "      <th></th>\n",
       "      <th>Missing</th>\n",
       "      <th>Missing %</th>\n",
       "    </tr>\n",
       "  </thead>\n",
       "  <tbody>\n",
       "    <tr>\n",
       "      <th>Delivery_person_Ratings</th>\n",
       "      <td>1394</td>\n",
       "      <td>3.09</td>\n",
       "    </tr>\n",
       "    <tr>\n",
       "      <th>Delivery_person_Age</th>\n",
       "      <td>1340</td>\n",
       "      <td>2.97</td>\n",
       "    </tr>\n",
       "    <tr>\n",
       "      <th>Time_Orderd</th>\n",
       "      <td>1217</td>\n",
       "      <td>2.70</td>\n",
       "    </tr>\n",
       "    <tr>\n",
       "      <th>City</th>\n",
       "      <td>1180</td>\n",
       "      <td>2.62</td>\n",
       "    </tr>\n",
       "    <tr>\n",
       "      <th>multiple_deliveries</th>\n",
       "      <td>979</td>\n",
       "      <td>2.17</td>\n",
       "    </tr>\n",
       "  </tbody>\n",
       "</table>\n",
       "</div>"
      ],
      "text/plain": [
       "                         Missing  Missing %\n",
       "Delivery_person_Ratings     1394       3.09\n",
       "Delivery_person_Age         1340       2.97\n",
       "Time_Orderd                 1217       2.70\n",
       "City                        1180       2.62\n",
       "multiple_deliveries          979       2.17"
      ]
     },
     "execution_count": 36,
     "metadata": {},
     "output_type": "execute_result"
    }
   ],
   "source": [
    "MissingValues = pd.DataFrame(df.isna().sum().sort_values(ascending = False)[:5])\n",
    "\n",
    "MissingValues.rename(columns = {0 : 'Missing'}, inplace = True, errors = 'raise')\n",
    "\n",
    "MissingValues['Missing %'] = round(MissingValues['Missing'] / df.shape[0] * 100, 2)\n",
    "\n",
    "MissingValues"
   ]
  },
  {
   "cell_type": "code",
   "execution_count": null,
   "metadata": {},
   "outputs": [],
   "source": []
  }
 ],
 "metadata": {
  "kernelspec": {
   "display_name": "eta",
   "language": "python",
   "name": "python3"
  },
  "language_info": {
   "codemirror_mode": {
    "name": "ipython",
    "version": 3
   },
   "file_extension": ".py",
   "mimetype": "text/x-python",
   "name": "python",
   "nbconvert_exporter": "python",
   "pygments_lexer": "ipython3",
   "version": "3.9.19"
  },
  "orig_nbformat": 4
 },
 "nbformat": 4,
 "nbformat_minor": 2
}
