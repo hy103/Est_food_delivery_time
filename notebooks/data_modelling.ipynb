{
 "cells": [
  {
   "cell_type": "code",
   "execution_count": 1,
   "metadata": {},
   "outputs": [],
   "source": [
    "import pandas as pd \n",
    "import numpy as np\n",
    "import matplotlib.pyplot as plt\n",
    "import seaborn as sns\n",
    "\n",
    "# Settings\n",
    "pd.set_option('display.max_columns', None)\n",
    "sns.set_style('whitegrid')\n",
    "%matplotlib inline\n",
    "\n",
    "### Packages\n",
    "from sklearn.model_selection import train_test_split\n",
    "from sklearn.preprocessing import OneHotEncoder, StandardScaler\n",
    "from sklearn.linear_model import LinearRegression\n",
    "from sklearn.ensemble import RandomForestRegressor\n",
    "from xgboost import XGBRegressor\n",
    "from lightgbm import LGBMRegressor\n",
    "from sklearn.metrics import mean_squared_error, r2_score"
   ]
  },
  {
   "cell_type": "code",
   "execution_count": 2,
   "metadata": {},
   "outputs": [
    {
     "data": {
      "text/html": [
       "<div>\n",
       "<style scoped>\n",
       "    .dataframe tbody tr th:only-of-type {\n",
       "        vertical-align: middle;\n",
       "    }\n",
       "\n",
       "    .dataframe tbody tr th {\n",
       "        vertical-align: top;\n",
       "    }\n",
       "\n",
       "    .dataframe thead th {\n",
       "        text-align: right;\n",
       "    }\n",
       "</style>\n",
       "<table border=\"1\" class=\"dataframe\">\n",
       "  <thead>\n",
       "    <tr style=\"text-align: right;\">\n",
       "      <th></th>\n",
       "      <th>Delivery_person_Age</th>\n",
       "      <th>Delivery_person_Ratings</th>\n",
       "      <th>Weatherconditions</th>\n",
       "      <th>Road_traffic_density</th>\n",
       "      <th>Vehicle_condition</th>\n",
       "      <th>Type_of_order</th>\n",
       "      <th>Type_of_vehicle</th>\n",
       "      <th>multiple_deliveries</th>\n",
       "      <th>Festival</th>\n",
       "      <th>City</th>\n",
       "      <th>Time_taken(min)</th>\n",
       "      <th>distance_rest_del_loc</th>\n",
       "      <th>hour</th>\n",
       "      <th>day</th>\n",
       "      <th>weekday_name</th>\n",
       "      <th>TypeOfMeal</th>\n",
       "    </tr>\n",
       "  </thead>\n",
       "  <tbody>\n",
       "    <tr>\n",
       "      <th>0</th>\n",
       "      <td>30.0</td>\n",
       "      <td>4.7</td>\n",
       "      <td>conditions Sandstorms</td>\n",
       "      <td>Jam</td>\n",
       "      <td>0.0</td>\n",
       "      <td>Meal</td>\n",
       "      <td>motorcycle</td>\n",
       "      <td>1.0</td>\n",
       "      <td>No</td>\n",
       "      <td>Metropolitian</td>\n",
       "      <td>34.0</td>\n",
       "      <td>10.336614</td>\n",
       "      <td>19</td>\n",
       "      <td>20</td>\n",
       "      <td>Sunday</td>\n",
       "      <td>Dinner</td>\n",
       "    </tr>\n",
       "    <tr>\n",
       "      <th>1</th>\n",
       "      <td>30.0</td>\n",
       "      <td>4.7</td>\n",
       "      <td>conditions Sandstorms</td>\n",
       "      <td>Jam</td>\n",
       "      <td>0.0</td>\n",
       "      <td>Buffet</td>\n",
       "      <td>motorcycle</td>\n",
       "      <td>1.0</td>\n",
       "      <td>No</td>\n",
       "      <td>Metropolitian</td>\n",
       "      <td>46.0</td>\n",
       "      <td>5.849717</td>\n",
       "      <td>20</td>\n",
       "      <td>30</td>\n",
       "      <td>Saturday</td>\n",
       "      <td>Dinner</td>\n",
       "    </tr>\n",
       "    <tr>\n",
       "      <th>2</th>\n",
       "      <td>30.0</td>\n",
       "      <td>4.7</td>\n",
       "      <td>conditions Sunny</td>\n",
       "      <td>Low</td>\n",
       "      <td>0.0</td>\n",
       "      <td>Drinks</td>\n",
       "      <td>motorcycle</td>\n",
       "      <td>1.0</td>\n",
       "      <td>No</td>\n",
       "      <td>Metropolitian</td>\n",
       "      <td>19.0</td>\n",
       "      <td>0.974953</td>\n",
       "      <td>9</td>\n",
       "      <td>28</td>\n",
       "      <td>Monday</td>\n",
       "      <td>Breakfast</td>\n",
       "    </tr>\n",
       "    <tr>\n",
       "      <th>3</th>\n",
       "      <td>30.0</td>\n",
       "      <td>4.7</td>\n",
       "      <td>conditions Cloudy</td>\n",
       "      <td>Medium</td>\n",
       "      <td>1.0</td>\n",
       "      <td>Drinks</td>\n",
       "      <td>motorcycle</td>\n",
       "      <td>1.0</td>\n",
       "      <td>No</td>\n",
       "      <td>Metropolitian</td>\n",
       "      <td>42.0</td>\n",
       "      <td>7.799623</td>\n",
       "      <td>18</td>\n",
       "      <td>20</td>\n",
       "      <td>Sunday</td>\n",
       "      <td>Dinner</td>\n",
       "    </tr>\n",
       "    <tr>\n",
       "      <th>4</th>\n",
       "      <td>30.0</td>\n",
       "      <td>4.7</td>\n",
       "      <td>conditions Windy</td>\n",
       "      <td>Jam</td>\n",
       "      <td>0.0</td>\n",
       "      <td>Snack</td>\n",
       "      <td>motorcycle</td>\n",
       "      <td>1.0</td>\n",
       "      <td>No</td>\n",
       "      <td>Metropolitian</td>\n",
       "      <td>44.0</td>\n",
       "      <td>10.724479</td>\n",
       "      <td>19</td>\n",
       "      <td>29</td>\n",
       "      <td>Tuesday</td>\n",
       "      <td>Dinner</td>\n",
       "    </tr>\n",
       "  </tbody>\n",
       "</table>\n",
       "</div>"
      ],
      "text/plain": [
       "   Delivery_person_Age  Delivery_person_Ratings      Weatherconditions  \\\n",
       "0                 30.0                      4.7  conditions Sandstorms   \n",
       "1                 30.0                      4.7  conditions Sandstorms   \n",
       "2                 30.0                      4.7       conditions Sunny   \n",
       "3                 30.0                      4.7      conditions Cloudy   \n",
       "4                 30.0                      4.7       conditions Windy   \n",
       "\n",
       "  Road_traffic_density  Vehicle_condition Type_of_order Type_of_vehicle  \\\n",
       "0                 Jam                 0.0         Meal      motorcycle    \n",
       "1                 Jam                 0.0       Buffet      motorcycle    \n",
       "2                 Low                 0.0       Drinks      motorcycle    \n",
       "3              Medium                 1.0       Drinks      motorcycle    \n",
       "4                 Jam                 0.0        Snack      motorcycle    \n",
       "\n",
       "   multiple_deliveries Festival            City  Time_taken(min)  \\\n",
       "0                  1.0      No   Metropolitian              34.0   \n",
       "1                  1.0      No   Metropolitian              46.0   \n",
       "2                  1.0      No   Metropolitian              19.0   \n",
       "3                  1.0      No   Metropolitian              42.0   \n",
       "4                  1.0      No   Metropolitian              44.0   \n",
       "\n",
       "   distance_rest_del_loc  hour  day weekday_name TypeOfMeal  \n",
       "0              10.336614    19   20       Sunday     Dinner  \n",
       "1               5.849717    20   30     Saturday     Dinner  \n",
       "2               0.974953     9   28       Monday  Breakfast  \n",
       "3               7.799623    18   20       Sunday     Dinner  \n",
       "4              10.724479    19   29      Tuesday     Dinner  "
      ]
     },
     "execution_count": 2,
     "metadata": {},
     "output_type": "execute_result"
    }
   ],
   "source": [
    "data = pd.read_csv(\"../data/model_data.csv\", index_col= False)\n",
    "data.head(5)"
   ]
  },
  {
   "cell_type": "code",
   "execution_count": 3,
   "metadata": {},
   "outputs": [
    {
     "data": {
      "text/plain": [
       "Delivery_person_Age        float64\n",
       "Delivery_person_Ratings    float64\n",
       "Weatherconditions           object\n",
       "Road_traffic_density        object\n",
       "Vehicle_condition          float64\n",
       "Type_of_order               object\n",
       "Type_of_vehicle             object\n",
       "multiple_deliveries        float64\n",
       "Festival                    object\n",
       "City                        object\n",
       "Time_taken(min)            float64\n",
       "distance_rest_del_loc      float64\n",
       "hour                         int64\n",
       "day                          int64\n",
       "weekday_name                object\n",
       "TypeOfMeal                  object\n",
       "dtype: object"
      ]
     },
     "execution_count": 3,
     "metadata": {},
     "output_type": "execute_result"
    }
   ],
   "source": [
    "data.dtypes"
   ]
  },
  {
   "cell_type": "code",
   "execution_count": 4,
   "metadata": {},
   "outputs": [],
   "source": [
    "### Features and Predictors(Target)\n",
    "X = data.drop(['Time_taken(min)'], axis =1)\n",
    "y = data['Time_taken(min)']"
   ]
  },
  {
   "cell_type": "code",
   "execution_count": 5,
   "metadata": {},
   "outputs": [
    {
     "name": "stdout",
     "output_type": "stream",
     "text": [
      "(30703, 15) (30703,)\n",
      "(8816, 15) (8816,)\n",
      "(4343, 15) (4343,)\n"
     ]
    }
   ],
   "source": [
    "### Splitting the data into Train validation and test\n",
    "X_train, X_test,y_train ,  y_test = train_test_split(X, y, test_size = 0.3, random_state = 42)\n",
    "X_Val,  X_test, y_val, y_test = train_test_split(X_test, y_test, test_size = 0.33, random_state = 42)\n",
    "print(X_train.shape, y_train.shape)\n",
    "print(X_Val.shape, y_val.shape)\n",
    "print(X_test.shape, y_test.shape)"
   ]
  },
  {
   "cell_type": "code",
   "execution_count": 6,
   "metadata": {},
   "outputs": [],
   "source": [
    "### Feature Generation\n",
    "### Convert the categorical features into numerical features\n",
    "\n",
    "def convert_categorical_numerical(df, categorical_columns):\n",
    "\n",
    "    encoder = OneHotEncoder(sparse_output = False)\n",
    "    one_hot_encoded = encoder.fit_transform(df[categorical_columns])\n",
    "    one_hot_data = pd.DataFrame(one_hot_encoded, \n",
    "                                columns = encoder.get_feature_names_out(categorical_columns)) \n",
    "    df_rest_index = df.reset_index(drop = True, inplace = False)   \n",
    "    df_encoded = pd.concat([df_rest_index, one_hot_data], axis =1)\n",
    "    df_encoded = df_encoded.drop(columns = categorical_columns, axis =1)\n",
    "    return df_encoded\n",
    "\n"
   ]
  },
  {
   "cell_type": "code",
   "execution_count": 7,
   "metadata": {},
   "outputs": [],
   "source": [
    "def feature_scaling_numeric_columns(df, numerical_columns):\n",
    "\n",
    "    print(numerical_columns)\n",
    "    scaler = StandardScaler()\n",
    "    df[numerical_columns] = scaler.fit_transform(df[numerical_columns])\n",
    "\n",
    "    return df"
   ]
  },
  {
   "cell_type": "code",
   "execution_count": 10,
   "metadata": {},
   "outputs": [
    {
     "name": "stdout",
     "output_type": "stream",
     "text": [
      "Index(['Delivery_person_Age', 'Delivery_person_Ratings', 'Vehicle_condition',\n",
      "       'multiple_deliveries', 'distance_rest_del_loc', 'hour', 'day'],\n",
      "      dtype='object')\n",
      "Index(['Delivery_person_Age', 'Delivery_person_Ratings', 'Vehicle_condition',\n",
      "       'multiple_deliveries', 'distance_rest_del_loc', 'hour', 'day'],\n",
      "      dtype='object')\n",
      "Model: LinearRegression\n",
      "Train MSE: 35.1338, Test MSE: 35.3619, R2 Score: 0.5958\n",
      "--------------------------------------------------\n"
     ]
    },
    {
     "name": "stderr",
     "output_type": "stream",
     "text": [
      "/Users/harshayarravarapu/Documents/GitHub/Est_food_delivery_time/eta/lib/python3.9/site-packages/sklearn/metrics/_regression.py:492: FutureWarning: 'squared' is deprecated in version 1.4 and will be removed in 1.6. To calculate the root mean squared error, use the function'root_mean_squared_error'.\n",
      "  warnings.warn(\n",
      "/Users/harshayarravarapu/Documents/GitHub/Est_food_delivery_time/eta/lib/python3.9/site-packages/sklearn/metrics/_regression.py:492: FutureWarning: 'squared' is deprecated in version 1.4 and will be removed in 1.6. To calculate the root mean squared error, use the function'root_mean_squared_error'.\n",
      "  warnings.warn(\n"
     ]
    },
    {
     "name": "stdout",
     "output_type": "stream",
     "text": [
      "Model: RandomForestRegressor\n",
      "Train MSE: 2.0676, Test MSE: 15.1101, R2 Score: 0.8273\n",
      "--------------------------------------------------\n"
     ]
    },
    {
     "name": "stderr",
     "output_type": "stream",
     "text": [
      "/Users/harshayarravarapu/Documents/GitHub/Est_food_delivery_time/eta/lib/python3.9/site-packages/sklearn/metrics/_regression.py:492: FutureWarning: 'squared' is deprecated in version 1.4 and will be removed in 1.6. To calculate the root mean squared error, use the function'root_mean_squared_error'.\n",
      "  warnings.warn(\n"
     ]
    },
    {
     "name": "stdout",
     "output_type": "stream",
     "text": [
      "Model: XGBRegressor\n",
      "Train MSE: 10.3564, Test MSE: 28.1362, R2 Score: 0.6784\n",
      "--------------------------------------------------\n",
      "[LightGBM] [Warning] Found whitespace in feature_names, replace with underlines\n",
      "[LightGBM] [Info] Auto-choosing row-wise multi-threading, the overhead of testing was 0.001539 seconds.\n",
      "You can set `force_row_wise=true` to remove the overhead.\n",
      "And if memory is not enough, you can set `force_col_wise=true`.\n",
      "[LightGBM] [Info] Total Bins 422\n",
      "[LightGBM] [Info] Number of data points in the train set: 30703, number of used features: 39\n",
      "[LightGBM] [Info] Start training from score 26.333485\n",
      "Model: LGBMRegressor\n",
      "Train MSE: 13.1252, Test MSE: 25.7084, R2 Score: 0.7061\n",
      "--------------------------------------------------\n"
     ]
    },
    {
     "name": "stderr",
     "output_type": "stream",
     "text": [
      "/Users/harshayarravarapu/Documents/GitHub/Est_food_delivery_time/eta/lib/python3.9/site-packages/sklearn/metrics/_regression.py:492: FutureWarning: 'squared' is deprecated in version 1.4 and will be removed in 1.6. To calculate the root mean squared error, use the function'root_mean_squared_error'.\n",
      "  warnings.warn(\n"
     ]
    }
   ],
   "source": [
    "### Applying various ML models\n",
    "def model_training(X_train, X_test, y_train, y_test, ml_model):\n",
    "    # Train the model\n",
    "    ml_model.fit(X_train, y_train)\n",
    "\n",
    "    # Make predictions\n",
    "    y_pred_train = ml_model.predict(X_train)\n",
    "    y_pred_test = ml_model.predict(X_test)\n",
    "\n",
    "    # Evaluate the model\n",
    "    train_mse = mean_squared_error(y_train, y_pred_train)\n",
    "    test_mse = mean_squared_error(y_test, y_pred_test)\n",
    "    test_r2 = r2_score(y_test, y_pred_test)\n",
    "    test_rmse = mean_squared_error(y_test, y_pred_test, squared= False) \n",
    "\n",
    "    print(f\"Model: {ml_model.__class__.__name__}\")\n",
    "    print(f\"Train MSE: {train_mse:.4f}, Test MSE: {test_mse:.4f}, R2 Score: {test_r2:.4f}\")\n",
    "\n",
    "    print('-' * 50)\n",
    "\n",
    "    return ml_model, test_mse, test_r2, test_rmse\n",
    "\n",
    "def data_preprocessing(data):\n",
    "    numerical_features = X_train.select_dtypes(include=['float64', 'int64']).columns\n",
    "    categorical_features = X_train.select_dtypes(include=['object']).columns\n",
    "\n",
    "    data_encoded = convert_categorical_numerical(data, categorical_features)\n",
    "    data_scaled = feature_scaling_numeric_columns(data_encoded, numerical_features)\n",
    "    return data_scaled\n",
    "\n",
    "\n",
    "X_train_pre = data_preprocessing(X_train)\n",
    "X_Val_pre = data_preprocessing(X_Val)\n",
    "\n",
    "\n",
    "\n",
    "models = [\n",
    "    LinearRegression(),\n",
    "    RandomForestRegressor(n_estimators=100, random_state=42),\n",
    "    XGBRegressor(n_estimators=100, random_state=42),\n",
    "    LGBMRegressor(n_estimators=100, random_state=42)\n",
    "]\n",
    "\n",
    "# Train and evaluate each model\n",
    "trained_models = {}\n",
    "for model in models:\n",
    "    trained_model, test_mse, r2,rmse = model_training(X_train_pre, X_Val_pre, y_train, y_val, model)\n",
    "    trained_models[model.__class__.__name__] = {'model': trained_model, 'test_mse': test_mse, 'r2_score': r2, 'rmse': rmse}\n"
   ]
  },
  {
   "cell_type": "code",
   "execution_count": null,
   "metadata": {},
   "outputs": [],
   "source": []
  }
 ],
 "metadata": {
  "kernelspec": {
   "display_name": "eta",
   "language": "python",
   "name": "python3"
  },
  "language_info": {
   "codemirror_mode": {
    "name": "ipython",
    "version": 3
   },
   "file_extension": ".py",
   "mimetype": "text/x-python",
   "name": "python",
   "nbconvert_exporter": "python",
   "pygments_lexer": "ipython3",
   "version": "3.9.19"
  },
  "orig_nbformat": 4
 },
 "nbformat": 4,
 "nbformat_minor": 2
}
